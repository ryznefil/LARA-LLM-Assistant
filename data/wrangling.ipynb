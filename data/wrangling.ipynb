{
 "cells": [
  {
   "cell_type": "code",
   "execution_count": 6,
   "metadata": {},
   "outputs": [],
   "source": [
    "import json\n",
    "import pickle\n",
    "from datetime import datetime\n",
    "\n",
    "def date_serializer(obj):\n",
    "    \"\"\"Custom serializer for date objects\"\"\"\n",
    "    if isinstance(obj, datetime.date):\n",
    "        return obj.isoformat()\n",
    "    raise TypeError(\"Type not serializable\")"
   ]
  },
  {
   "cell_type": "code",
   "execution_count": 10,
   "metadata": {},
   "outputs": [
    {
     "name": "stdout",
     "output_type": "stream",
     "text": [
      "daily_outputs_2023-10-01.pickle\n",
      "daily_outputs_2023-10-14.pickle\n"
     ]
    },
    {
     "ename": "UnpicklingError",
     "evalue": "invalid load key, '{'.",
     "output_type": "error",
     "traceback": [
      "\u001b[0;31m---------------------------------------------------------------------------\u001b[0m",
      "\u001b[0;31mUnpicklingError\u001b[0m                           Traceback (most recent call last)",
      "\u001b[1;32m/Users/ryznerf/Documents/hacketons/life_upgrade/life--upgrade/data/wrangling.ipynb Cell 2\u001b[0m line \u001b[0;36m8\n\u001b[1;32m      <a href='vscode-notebook-cell:/Users/ryznerf/Documents/hacketons/life_upgrade/life--upgrade/data/wrangling.ipynb#W1sZmlsZQ%3D%3D?line=5'>6</a>\u001b[0m \u001b[39mprint\u001b[39m(file)\n\u001b[1;32m      <a href='vscode-notebook-cell:/Users/ryznerf/Documents/hacketons/life_upgrade/life--upgrade/data/wrangling.ipynb#W1sZmlsZQ%3D%3D?line=6'>7</a>\u001b[0m \u001b[39mwith\u001b[39;00m \u001b[39mopen\u001b[39m(os\u001b[39m.\u001b[39mpath\u001b[39m.\u001b[39mjoin(data_folder, file), \u001b[39m'\u001b[39m\u001b[39mrb\u001b[39m\u001b[39m'\u001b[39m) \u001b[39mas\u001b[39;00m f:\n\u001b[0;32m----> <a href='vscode-notebook-cell:/Users/ryznerf/Documents/hacketons/life_upgrade/life--upgrade/data/wrangling.ipynb#W1sZmlsZQ%3D%3D?line=7'>8</a>\u001b[0m     data \u001b[39m=\u001b[39m pickle\u001b[39m.\u001b[39;49mload(f)\n\u001b[1;32m      <a href='vscode-notebook-cell:/Users/ryznerf/Documents/hacketons/life_upgrade/life--upgrade/data/wrangling.ipynb#W1sZmlsZQ%3D%3D?line=8'>9</a>\u001b[0m \u001b[39mwith\u001b[39;00m \u001b[39mopen\u001b[39m(os\u001b[39m.\u001b[39mpath\u001b[39m.\u001b[39mjoin(data_folder, file), \u001b[39m'\u001b[39m\u001b[39mw\u001b[39m\u001b[39m'\u001b[39m) \u001b[39mas\u001b[39;00m f:\n\u001b[1;32m     <a href='vscode-notebook-cell:/Users/ryznerf/Documents/hacketons/life_upgrade/life--upgrade/data/wrangling.ipynb#W1sZmlsZQ%3D%3D?line=9'>10</a>\u001b[0m     json\u001b[39m.\u001b[39mdump(data, f, default\u001b[39m=\u001b[39mdate_serializer)\n",
      "\u001b[0;31mUnpicklingError\u001b[0m: invalid load key, '{'."
     ]
    }
   ],
   "source": [
    "import os\n",
    "data_folder = '/Users/ryznerf/Documents/hacketons/life_upgrade/life--upgrade/data'\n",
    "pickle_files = [f for f in os.listdir(data_folder) if f.endswith('.pickle')]\n",
    "\n",
    "for file in pickle_files:\n",
    "    print(file)\n",
    "    with open(os.path.join(data_folder, file), 'rb') as f:\n",
    "        data = pickle.load(f)\n",
    "    \n",
    "    json_filename = os.path.splitext(file)[0] + '.json'\n",
    "    \n",
    "    # Save the data as JSON\n",
    "    with open(os.path.join(data_folder, json_filename), 'w') as f:\n",
    "        json.dump(data, f, default=date_serializer)\n"
   ]
  },
  {
   "cell_type": "code",
   "execution_count": null,
   "metadata": {},
   "outputs": [],
   "source": []
  }
 ],
 "metadata": {
  "kernelspec": {
   "display_name": "life_upgrade",
   "language": "python",
   "name": "python3"
  },
  "language_info": {
   "codemirror_mode": {
    "name": "ipython",
    "version": 3
   },
   "file_extension": ".py",
   "mimetype": "text/x-python",
   "name": "python",
   "nbconvert_exporter": "python",
   "pygments_lexer": "ipython3",
   "version": "3.11.5"
  }
 },
 "nbformat": 4,
 "nbformat_minor": 2
}
